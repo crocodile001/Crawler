{
 "cells": [
  {
   "cell_type": "code",
   "execution_count": 1,
   "metadata": {
    "scrolled": false
   },
   "outputs": [
    {
     "name": "stdout",
     "output_type": "stream",
     "text": [
      "target : http://www.ccu.edu.tw\n",
      "dict : 125 , URLS : 125\n",
      "https://my.edoc.ccu.edu.tw/edocsys/index.jsp - 訪問頁面出錯_2\n",
      "https://ecourse.ccu.edu.tw/ - 訪問頁面出錯_2\n",
      "https://sslvpn.ccu.edu.tw/dana-na/auth/url_5/welcome.cgi - 訪問頁面出錯_2\n",
      "https://ecard.ccu.edu.tw/ - 訪問頁面出錯_2\n",
      "https://ccu30y.ccu.edu.tw/ccu30y/ - 訪問頁面出錯_2\n",
      "http://140.123.13.96/college/college108.htm - 訪問頁面出錯_1\n",
      "http://www.ccu.edu.tw/file/index/CCU-PIMS-A-001_ - 訪問頁面出錯_1\n",
      "總共測試的網址 : 125\n",
      "dict : 118\n",
      "DB : 118\n",
      "SearchDB : 117\n",
      "target : https://miswww1.ccu.edu.tw/hostel/\n",
      "dict : 6 , URLS : 6\n",
      "總共測試的網址 : 6\n",
      "dict : 6\n",
      "DB : 124\n",
      "SearchDB : 122\n",
      "target : http://www.alumni.ccu.edu.tw/wpnew/\n",
      "dict : 54 , URLS : 54\n",
      "http://www.alumni.ccu.edu.tw/wpnew/alumniccu@ccu.edu.tw - 訪問頁面出錯_1\n",
      "總共測試的網址 : 54\n",
      "dict : 53\n",
      "DB : 171\n",
      "SearchDB : 169\n",
      "{'http://www.ccu.edu.tw': '國立中正大學', 'http://www.ccu.edu.tw/index.php': '  ', 'http://www.ccu.edu.tw/student.php': '學生', 'http://www.ccu.edu.tw/staff.php': '教職員', 'http://www.ccu.edu.tw/customer.php': '訪客', 'http://140.123.13.16/welcome.php': '新生', 'http://www.alumni.ccu.edu.tw/wpnew/': '', 'http://deptrdc.ccu.edu.tw/neweb/': '中正之友', 'http://secretary.ccu.edu.tw/donate/': '捐款中正', 'http://www.ccu.edu.tw/eng/index.php': 'ENG', 'http://www.ccu.edu.tw/about_ccu.php': '關於中正', 'http://www.ccu.edu.tw/academic.php': '學術單位', 'http://www.ccu.edu.tw/administrative.php': '行政單位', 'http://www.ccu.edu.tw/research_list.php': '學術研究', 'http://www.ccu.edu.tw/administrative_service.php': '行政服務', 'https://portal.ccu.edu.tw/': '單一入口', 'https://ecourse2.ccu.edu.tw/autologin.php': '  eCourse2教學課程系統 ', 'http://www.ccu.edu.tw/public_info.php': '公開資訊', 'http://exams.ccu.edu.tw/index.php': '招生資訊', 'http://www.ccu.edu.tw/admin/': '  公告系統 ', 'https://oldw3.ccu.edu.tw/newssubmit/': '  新聞投遞系統 ', 'http://coursemap.ccu.edu.tw': '  課程地圖 ', 'http://cyberccu.ccu.edu.tw/index_0.php': '  中正網路大學 ', 'https://www026197.ccu.edu.tw/salarysys01/': '  員工薪資查詢 ', 'https://affairs.ccu.edu.tw/student/login': '  學位服借用管理系統 ', 'https://cloud.ccu.edu.tw/Register/': '  NUCloud ', 'https://miswww1.ccu.edu.tw/parttime/index.php': '  學習暨勞僱時數登錄 ', 'https://miswww1.ccu.edu.tw/AMS/': '  財產管理系統 ', 'https://miswww1.ccu.edu.tw/quitapply/Qa_index.php': '  員工網路離校 ', 'https://miswww1.ccu.edu.tw/account/index.php': '  會計WEB查詢系統 ', 'https://miswww1.ccu.edu.tw/evaluation/001.php': '  線上教學意見系統 ', 'https://www026197.ccu.edu.tw/dutysys01/': '  差勤系統 ', 'http://kiki.ccu.edu.tw/': '  教務系統 ', 'https://miswww1.ccu.edu.tw/pt_proj/index.php': '  兼任助理、臨時工日誌 ', 'https://www026197.ccu.edu.tw/gensys01/': '  付款及所得查詢系統 ', 'https://miswww1.ccu.edu.tw/consume/': '  物品管理系統 ', 'http://miswww1.ccu.edu.tw/tastuctrl/': '  教學助理暨工讀生登錄系統 ', 'https://www.lib.ccu.edu.tw/': '  圖書館 ', 'http://www.ccunix.ccu.edu.tw/': '  學雜費繳費 ', 'http://www.ccu.edu.tw/webmail.php': 'Webmail', 'http://studaffbh.ccu.edu.tw/files/11-1002-271.php': '職涯發展中心', 'http://secretar.ccu.edu.tw/gender-equality/': '  性別平等 ', 'http://cultural.lib.ccu.edu.tw/index.php/': '  藝文中心 ', 'https://www.pcc.gov.tw/Default.aspx': '  電子採購網 ', 'https://alum.ccu.edu.tw/': '校友Email申請', 'https://miswww1.ccu.edu.tw/hostel/': '  致遠樓線上客房申請 ', 'https://affairs.ccu.edu.tw/cashier/epayment': '  電子化收費系統專區 ', 'http://ycrc.tanet.edu.tw/': '  雲嘉區網 ', 'https://document.ccu.edu.tw/Document/filemanage/filemanager.php': '  檔案E網通 ', 'https://cjlc.ccu.edu.tw/main.php': '  推廣教育 ', 'https://ethics.moe.edu.tw/': '  學術倫理教育資源 ', 'http://140.123.5.6/2019-nCoV.php': '嚴重特殊傳染性肺炎 (COVID-19) 防疫專區 -- COVID-19 Prevention News', 'https://www.ccu.edu.tw/new_content_demo.php?type=bulletin&id=34005': '     開學後有旅遊接觸史者 請主動聯繫防疫窗口填寫紙本回報表  ', 'https://www.ccu.edu.tw/new_content_demo.php?type=bulletin&id=33914': '     避免疫情在校園擴散 進出各大樓人員須實施體溫檢測  ', 'http://cultural.lib.ccu.edu.tw/index.php/2015-08-22-17-30-57/item/42-156': '     形色解構 蕭雯心百號油畫展  ', 'http://cultural.lib.ccu.edu.tw/': '     2020春季藝文 系列活動  ', 'https://pse.is/N2AZQ': '     2020秋季交換計畫Ｘ暑期活動 申請開始(表單陸續更新)  ', 'http://www.ccu.edu.tw/news_list.php?id=1': '更多新聞', 'http://www.ccu.edu.tw/news_list.php?id=5': '媒體報導', 'http://www.ccu.edu.tw/news_list.php?id=7': '校園榮譽', 'http://www.ccu.edu.tw/news_list.php?id=3': '中正特輯', 'http://www.ccu.edu.tw/news_list.php?id=4': '中正校刊', 'http://www.ccu.edu.tw/news_history_search.php': '歷史新聞', 'http://www.ccu.edu.tw/new_content_demo.php?type=bulletin&id=34010': '2020數位學習及遠距教學工作坊(3/23~3/27)，請授課教師及助教踴躍報名參加。', 'http://www.ccu.edu.tw/new_content_demo.php?type=bulletin&id=34009': '【3/18重要公告】因應新冠肺炎疫情的快速劇變，本校相關防疫作為更新', 'http://www.ccu.edu.tw/new_content_demo.php?type=bulletin&id=34006': '請本校3月5日至14日有歐洲旅遊史的教職員工生，立即主動向防疫窗口通報!!', 'http://www.ccu.edu.tw/new_content_demo.php?type=bulletin&id=34005': '自3月2日起本校自境外返臺之教職員工生，應主動向防疫窗口回報，並填寫「國立中正大學教職員工生國外旅遊史回報表」', 'http://www.ccu.edu.tw/new_content_demo.php?type=bulletin&id=34004': '更新本校因應新型冠狀病毒肺炎疫情學生安心就學措施(新增助學措施)', 'http://www.ccu.edu.tw/new_content_demo.php?type=bulletin&id=34001': '防疫期間校內餐廳用餐注意事項', 'http://www.ccu.edu.tw/bullentin_list.php?id=1': 'more', 'http://www.ccu.edu.tw/new_content_demo.php?type=bulletin&id=34007': '轉知教育部「109年教育優先區中小學生暑假營隊活動」申請注意事項', 'http://www.ccu.edu.tw/new_content_demo.php?type=bulletin&id=34003': '教育部廢止「補助大專校院推動臺灣研究國際合作計畫實施要點」，並自即日生效', 'http://www.ccu.edu.tw/new_content_demo.php?type=bulletin&id=33990': '慈濟科技大學辦理2020年『Fun教育‧桌遊教具競賽』,即日起至109年3月31日報名徵件', 'http://www.ccu.edu.tw/new_content_demo.php?type=bulletin&id=33987': '台灣癲癇醫學會辦理第18屆「人間有情-關懷癲癇徵文比賽」活動', 'http://www.ccu.edu.tw/new_content_demo.php?type=bulletin&id=33986': '南臺科技大學「第四屆南台灣自釀啤酒大賽」取消', 'http://www.ccu.edu.tw/new_content_demo.php?type=bulletin&id=33981': '「科技融入教育：如何應用互動模擬工具」活動議程，歡迎踴躍報名參與。', 'http://www.ccu.edu.tw/bullentin_list.php?id=2': 'more', 'http://www.ccu.edu.tw/bullentin_list.php?id=3': 'more', 'http://www.ccu.edu.tw/new_content_demo.php?type=bulletin&id=34000': '特約廠商簽署訊息：星野肉肉鍋嘉義垂楊店', 'http://www.ccu.edu.tw/new_content_demo.php?type=bulletin&id=33998': '2020年 雲林縣英文聽力與專業詞彙能力大賽', 'http://www.ccu.edu.tw/new_content_demo.php?type=bulletin&id=33994': '教育部函轉社團法人台灣環境資訊協會辦理「2020地球日環境教育推廣計畫：說到做到愛地球」活動之「『地球日選書』 圖書書單」１份，請踴躍參與使用。', 'http://www.ccu.edu.tw/new_content_demo.php?type=bulletin&id=33988': '109學年度數位學習碩士在職專班（秋季班）招生公告', 'http://www.ccu.edu.tw/new_content_demo.php?type=bulletin&id=33980': '「2020校園暨親子神槍手—全國漆彈大作戰」活動延期', 'http://www.ccu.edu.tw/new_content_demo.php?type=bulletin&id=33974': '公共藝術講座(109年3月19日)', 'http://www.ccu.edu.tw/bullentin_list.php?id=4': 'more', 'http://www.ccu.edu.tw/new_content_demo.php?type=bulletin&id=34002': '台灣南部地震研究中心誠徵臨時工', 'http://www.ccu.edu.tw/new_content_demo.php?type=bulletin&id=33991': '國立中正大學通識教育中心身心障礙專案工作人員職缺校外遞補公告', 'http://www.ccu.edu.tw/new_content_demo.php?type=bulletin&id=33984': '臺北醫學大學誠徵牙醫學系主任人選', 'http://www.ccu.edu.tw/new_content_demo.php?type=bulletin&id=33977': '學務處(原資中心)專案工作人員職缺校外遞補公告', 'http://www.ccu.edu.tw/new_content_demo.php?type=bulletin&id=33976': '資訊工程學系專案工作人員職缺校外遞補公告', 'http://www.ccu.edu.tw/new_content_demo.php?type=bulletin&id=33973': '國立中正大學清江學習中心推廣教育組專案工作人員職缺校外遞補公告', 'http://www.ccu.edu.tw/bullentin_list.php?id=5': 'more', 'http://www.ccu.edu.tw/new_content_demo.php?type=bulletin&id=34008': '轉知「衛生福利部依嚴重特殊傳染性肺炎防治及紓困振興特別條例第十二條公告之防疫器具、設備、藥品、醫療器材或其他防疫物資」', 'http://www.ccu.edu.tw/new_content_demo.php?type=bulletin&id=33997': '轉知「教育部青年發展署青年壯遊體驗學習獎補助要點」修正來函', 'http://www.ccu.edu.tw/new_content_demo.php?type=bulletin&id=33996': '轉知「教育部補助辦理教育優先區中小學生營隊活動要點」修正', 'http://www.ccu.edu.tw/new_content_demo.php?type=bulletin&id=33989': '經國管理暨健康學院109學年度研究所考試入學招生資訊', 'http://www.ccu.edu.tw/new_content_demo.php?type=bulletin&id=33985': '輔仁大學管理學院「國際創業與經營管理碩士在職專班」招生報考資訊', 'http://www.ccu.edu.tw/new_content_demo.php?type=bulletin&id=33983': '金門縣政府環境影響評估審查委員會專家學者委員遴選推薦期限延至109年3月31日止。', 'http://www.ccu.edu.tw/bullentin_list.php?id=6': 'more', 'http://www.ccu.edu.tw/calender.php': '行事曆', 'http://www.ccu.edu.tw/information_service.php': '資訊服務', 'http://ccuweb.ccu.edu.tw/telsys/': '分機號碼表', 'http://www.ccu.edu.tw/traffic_info.php': '交通資訊', 'https://affairs.ccu.edu.tw/security/regulations': '校園地圖', 'http://www.ccu.edu.tw/life_info.php': '生活資訊', 'https://www.cac.edu.tw/cacportal/index.php': '大學甄選入學委員會', 'https://www.tcus.edu.tw/TradChinese': '臺灣綜合大學系統', 'http://www.ccu.edu.tw/evaluation_and_plan.php': '評鑑與計畫', 'https://cloud.ccu.edu.tw/Site/ccudcpro/dir_ALVATE/': '深耕計畫審查委員專區', 'https://www.startupland.ccu.edu.tw/': '創新創業基地', 'https://hesp.ccu.edu.tw/': '開放式大學網站', 'http://140.123.5.5/index2.php': '舊版網站', 'http://www.ccu.edu.tw/privacy.php': '隱私權聲明', 'http://www.ccu.edu.tw/file/index/RNC-CCU-A-001_1070801_v3.1.pdf': '資安政策', 'http://www.ccu.edu.tw/about_us.php': '關於我們', 'https://www.facebook.com/alumni.ccu': '國立中正大學校友網Facebook', 'https://enews.ccu.edu.tw/': '', 'https://www.facebook.com/NCCUSAbest': '', 'https://miswww1.ccu.edu.tw/hostel/index.html': '', 'https://miswww1.ccu.edu.tw/hostel/a_class.html': '', 'https://miswww1.ccu.edu.tw/hostel/know1.html': '', 'https://miswww1.ccu.edu.tw/hostel/price.php': '', 'https://miswww1.ccu.edu.tw/hostel/login.php': '', 'https://miswww1.ccu.edu.tw/hostel/news.php': '', 'http://oaa.ccu.edu.tw/Download/%E5%AD%B8%E7%A2%A9%E5%8D%9A%E7%95%A2%E6%A5%AD%E7%94%9F%E4%BA%BA%E6%95%B8%E7%B5%B1%E8%A8%88_%E6%9B%B4%E6%96%B0%E8%87%B3105%E5%AD%B8%E5%B9%B4_%E5%85%AC%E5%91%8A%E7%89%88.xls': '學,碩,博士班畢業人數', 'http://oaa.ccu.edu.tw/Download/%E3%80%8C%E7%A2%A9%E5%A3%AB%E5%9C%A8%E8%81%B7%E5%B0%88%E7%8F%AD%E7%95%A2%E6%A5%AD%E4%BA%BA%E6%95%B8%E7%B5%B1%E8%A8%88%E3%80%8D%E6%9B%B4%E6%96%B0%E8%87%B3104%E5%AD%B8%E5%B9%B4_%E5%85%AC%E5%91%8A%E7%89%88.xlsx': '在職專班畢業人數', 'http://www.alumni.ccu.edu.tw/wpnew/?page_id=207': '活動照片', 'http://www.lib.ccu.edu.tw/history/': '校史館', 'http://cjlc.ccu.edu.tw/app-op/adplay.php?Sn=28': '五術五課~悠遊職場', 'https://miswww1.ccu.edu.tw/alumni/alumni/index.php': '校友資料庫平台', 'http://www.alumni.ccu.edu.tw/wpnew/?p=674': '校友常見問題Q&A', 'http://miswww1.cc.ccu.edu.tw/hostel/index.html': '致遠樓客房線上申請', 'https://miswww1.ccu.edu.tw/grade/WWW/': '成績查詢系統', 'https://miswww1.ccu.edu.tw/netgrd/af_netgrd/index.php': '申請成績單', 'http://sport.ccu.edu.tw/files/11-1001-101-1.php': '體育館設施收費標準查詢', 'http://www.alumni.ccu.edu.tw/wpnew/?page_id=174': '由此去', 'http://www.alumni.ccu.edu.tw/wpnew/?page_id=875': '傑出校友專區', 'http://www.alumni.ccu.edu.tw/wpnew/?page_id=212': '校友相關刊物', 'http://www.alumni.ccu.edu.tw/wpnew/?page_id=90': '校友總會▼', 'http://www.alumni.ccu.edu.tw/wpnew/?p=107': '校友總會 章程', 'http://www.alumni.ccu.edu.tw/wpnew/?page_id=767': '現任會長 簡介', 'http://www.alumni.ccu.edu.tw/wpnew/?p=111': '歷屆會長 簡介', 'http://www.alumni.ccu.edu.tw/wpnew/?p=116': '校友總會 入會申請', 'http://www.alumni.ccu.edu.tw/wpnew/?p=435': '校友總會 會員資料更新', 'http://www.alumni.ccu.edu.tw/wpnew/?page_id=122': '校友總會 幹部介紹', 'http://www.alumni.ccu.edu.tw/wpnew/?page_id=271': '校友總會 電子報', 'https://www.facebook.com/groups/264853256943316': '校友總會 FB', 'http://www.alumni.ccu.edu.tw/wpnew/?page_id=145': '表單下載', 'http://www.alumni.ccu.edu.tw/wpnew/?page_id=453': '畢業生流向相關報告', 'http://www.alumni.ccu.edu.tw/wpnew/?page_id=662': '校友常見Q&A ', 'http://www.alumni.ccu.edu.tw/wpnew/?p=1098': '108年度第四屆傑出校友當選名單公告', 'http://www.alumni.ccu.edu.tw/wpnew/?p=1177': '防治新型冠狀病毒疫情擴散，校友相關服務調整', 'http://www.alumni.ccu.edu.tw/wpnew/?p=1129': '中正校友總會第九屆第五期季刊', 'http://www.alumni.ccu.edu.tw/wpnew/?p=1111': '108年度校友網路問卷填答抽獎得獎名單', 'http://www.alumni.ccu.edu.tw/wpnew/?p=1108': '轉發:30週年校慶相關活動', 'http://www.alumni.ccu.edu.tw/wpnew/?p=1103': '轉發:中國工程師協會問卷填寫', 'http://www.alumni.ccu.edu.tw/wpnew/?p=1094': '中正校友總會第九屆第四期季刊', 'http://www.alumni.ccu.edu.tw/wpnew/?p=1087': '轉發:公務人員性向測驗研發計畫', 'http://www.alumni.ccu.edu.tw/wpnew/?p=1076': '轉發:新北市政府社會局招募資訊', 'http://www.alumni.ccu.edu.tw/wpnew/?p=1071': '轉發:中鋼運通股份有限公司招募資訊', 'http://www.alumni.ccu.edu.tw/wpnew/?p=978': '台南校友會徵求會員', 'http://www.alumni.ccu.edu.tw/wpnew/?p=943': '中正校友總會第九屆第三期季刊', 'http://www.alumni.ccu.edu.tw/wpnew/?p=847': '中正校友總會第九屆第二期季刊', 'http://www.alumni.ccu.edu.tw/wpnew/?p=843': '中正校友總會第九屆第一期季刊', 'http://www.alumni.ccu.edu.tw/wpnew/?p=839': '中正大學祝福各位校友金豬年新年快樂!', 'http://www.alumni.ccu.edu.tw/wpnew/?lcp_page0=2': '>>', 'http://www.alumni.ccu.edu.tw/wpnew/?lcp_page0=3': '3', 'http://www.alumni.ccu.edu.tw/wpnew/?cat=13': ' ', 'http://www.alumni.ccu.edu.tw/wpnew/?p=674&customize_changeset_uuid=348543ee-4995-4891-b616-9177ee1fe51c': '校友常見問題Q&A', 'http://www.facebook.com/alumni.ccu': 'Facebook', 'http://secretar.ccu.edu.tw/main/': '秘書室'}\n"
     ]
    }
   ],
   "source": [
    "import requests\n",
    "from bs4 import BeautifulSoup\n",
    "from urllib.parse import urljoin\n",
    "\n",
    "import re\n",
    "pattern = re.compile(r'http[s]?://(?:[a-zA-Z]|[0-9]|[$-_@.&+]|[!*\\(\\),]|(?:%[0-9a-fA-F][0-9a-fA-F]))+')   # 合法網址的正則\n",
    "\n",
    "times = 3                                        # 爬取網站的次數\n",
    "DB = {}                                          # 放入 elastic search 的資料，DB[URL] = 連結文字\n",
    "SearchDB = [\"http://www.ccu.edu.tw\"]             # 存放可以爬取的 URL，起始爬取網站是 http://www.ccu.edu.tw\n",
    "DB[\"http://www.ccu.edu.tw\"] = \"國立中正大學\"      # 賦予 DB 的起始值\n",
    "\n",
    "\n",
    "# while len(SearchDB) > 0 :                      # 循環直到 Search 的長度為零\n",
    "while times > 0 :                                # 循環直到 times 的值為零\n",
    "    \n",
    "    target = SearchDB[0]                         # 取出當次欲爬取的 URL\n",
    "    print(\"target :\", target)\n",
    "    \n",
    "    r = requests.get(target)                     # 向該 URL 發出 get 請求\n",
    "    soup = BeautifulSoup(r.text, \"html.parser\")\n",
    "    sel = soup.select(\"a\")                       # 取出網頁中所有 <a> 標籤的內容\n",
    "\n",
    "    URLS = []                                    # 暫存當次所爬取的 URL\n",
    "    dict = {}                                    # 暫存當次所爬取的資料，dict[URL] = 連結文字\n",
    "    for s in sel:                                # 取出每一個 <a> 標籤\n",
    "        if(s.has_attr('href')):                  # 判斷是否具有 href 屬性\n",
    "            # print(s[\"href\"], s.text)\n",
    "\n",
    "            url = re.findall(pattern, urljoin(target, s[\"href\"]))     # 將相對網址轉成絕對網址後，接著判斷網址是否合法\n",
    "            if url:                                                   # 若存在合法網址，將其存入資料結構\n",
    "                # print(url[0])\n",
    "                dict[url[0]] = s.text.replace(\"\\n\", \" \")              # 去除連結文字的 '\\n' 和存入資料結構\n",
    "\n",
    "    URLS = list(dict.keys())\n",
    "    print(\"dict :\", len(dict), \",\", \"URLS :\", len(URLS))\n",
    "\n",
    "\n",
    "\n",
    "    import time\n",
    "    import urllib.request\n",
    "    opener = urllib.request.build_opener()\n",
    "    opener.addheaders = [('User-agent', 'Mozilla/49.0.2')]\n",
    "\n",
    "    count = 0\n",
    "    for i in URLS:                               # 檢查收集到的網址是否可以對其發出請求並得到正常的回應\n",
    "        tempUrl = i\n",
    "        # print(tempUrl)\n",
    "        try :\n",
    "            opener.open(tempUrl)\n",
    "            # print(tempUrl + ' - 沒問題')\n",
    "        except urllib.error.HTTPError:\n",
    "            print(tempUrl + ' - 訪問頁面出錯_1')\n",
    "            gc = dict.pop(tempUrl, None)         # 收到錯誤回應後，從資料中去除該 URL \n",
    "            time.sleep(1)\n",
    "        except urllib.error.URLError:\n",
    "            print(tempUrl + ' - 訪問頁面出錯_2')\n",
    "            gc = dict.pop(tempUrl, None)         # 收到錯誤回應後，從資料中去除該 URL \n",
    "            time.sleep(1)\n",
    "        time.sleep(0.1)\n",
    "        count += 1\n",
    "    print(\"總共測試的網址 :\", count)\n",
    "\n",
    "        \n",
    "    \n",
    "    print(\"dict :\", len(dict))\n",
    "    # print(dict.keys())\n",
    "\n",
    "    for i in dict.keys():                        # 取出每一個網址\n",
    "        DB[i] = dict[i]                          # 將暫存的 URL 和連結文字存入即將放入 elastic search 的資料結構\n",
    "        SearchDB.append(i)                       # 將暫存的 URL 存入下次可以爬取 URL 的資料結構\n",
    "    \n",
    "    dup = set(SearchDB)                          # 去除重複的 URL\n",
    "    SearchDB = list(dup)\n",
    "    SearchDB.remove(target)                      # 去除已搜尋的 URL\n",
    "    \n",
    "    print(\"DB :\", len(DB))\n",
    "    print(\"SearchDB :\", len(SearchDB))\n",
    "    times -= 1\n",
    "\n",
    "    \n",
    "print(DB)"
   ]
  },
  {
   "cell_type": "code",
   "execution_count": null,
   "metadata": {
    "scrolled": true
   },
   "outputs": [],
   "source": []
  },
  {
   "cell_type": "code",
   "execution_count": 4,
   "metadata": {},
   "outputs": [
    {
     "name": "stdout",
     "output_type": "stream",
     "text": [
      "http://www.test.tw/stu.php\n"
     ]
    }
   ],
   "source": [
    "from urllib.parse import urljoin\n",
    "print(urljoin(\"http://www.ccu.edu.tw\", \"http://www.test.tw/stu.php\"))"
   ]
  },
  {
   "cell_type": "code",
   "execution_count": 3,
   "metadata": {},
   "outputs": [
    {
     "name": "stdout",
     "output_type": "stream",
     "text": [
      "['http://tinyurl.com/NYCRooftops']\n"
     ]
    }
   ],
   "source": [
    "import re\n",
    "pattern = re.compile(r'http[s]?://(?:[a-zA-Z]|[0-9]|[$-_@.&+]|[!*\\(\\),]|(?:%[0-9a-fA-F][0-9a-fA-F]))+')    # 匹配模式\n",
    "\n",
    "string = 'Its after 12 noon, do you know where your rooftops are? http://tinyurl.com/NYCRooftops '\n",
    "url = re.findall(pattern,string)\n",
    "print(url)"
   ]
  },
  {
   "cell_type": "code",
   "execution_count": null,
   "metadata": {},
   "outputs": [],
   "source": []
  },
  {
   "cell_type": "code",
   "execution_count": null,
   "metadata": {},
   "outputs": [],
   "source": []
  }
 ],
 "metadata": {
  "kernelspec": {
   "display_name": "Python 3",
   "language": "python",
   "name": "python3"
  },
  "language_info": {
   "codemirror_mode": {
    "name": "ipython",
    "version": 3
   },
   "file_extension": ".py",
   "mimetype": "text/x-python",
   "name": "python",
   "nbconvert_exporter": "python",
   "pygments_lexer": "ipython3",
   "version": "3.6.0"
  }
 },
 "nbformat": 4,
 "nbformat_minor": 4
}
